{
 "cells": [
  {
   "cell_type": "markdown",
   "metadata": {},
   "source": [
    "# Purpose\n",
    "\n",
    "This notebook is setup to query the [OSTI.gov](https://www.OSTI.gov) API for project records. The goals for the code located herein are:\n",
    "\n",
    "1. Determine what fields are available for different records in OSTI\n",
    "2. Design a DOE Solar Energy Technologies Office (SETO) query that only pulls that technology office's data\n",
    "    * **Note:** this required `{'sponsoring_org': '\"EE-4S\"'}` in order to work the same as the browser-based search query. It appears that the syntax of the API and of the browser-based search is not fully harmonized right now, although I'm told it will be in the future.\n",
    "3. Build the query to work using an arbitrarily-large list of formatted project IDs, assuming the Solar Information Management System (SIMS) project code syntax as the input.\n",
    "    * **Note:** SIMS is an internal DOE system\n"
   ]
  },
  {
   "cell_type": "markdown",
   "metadata": {},
   "source": [
    "# The Main Event\n",
    "\n",
    "If all you want to do is extract records from OSTI's API, you needn't go any further than the next few cells. Anything past this section is simply testing code for trying to improve our queries, but isn't needed for the most basic functionality."
   ]
  },
  {
   "cell_type": "code",
   "execution_count": 1,
   "metadata": {
    "ExecuteTime": {
     "end_time": "2019-03-01T14:08:08.039591Z",
     "start_time": "2019-03-01T14:08:07.966741Z"
    }
   },
   "outputs": [],
   "source": [
    "#First things first, make sure we can import modifications to custom packages\n",
    "import autoreload\n",
    "%load_ext autoreload\n",
    "%autoreload 2"
   ]
  },
  {
   "cell_type": "code",
   "execution_count": 2,
   "metadata": {
    "ExecuteTime": {
     "end_time": "2019-03-01T14:08:29.599254Z",
     "start_time": "2019-03-01T14:08:27.058147Z"
    }
   },
   "outputs": [],
   "source": [
    "import datetime as dt\n",
    "import pandas as pd\n",
    "import math\n",
    "import os\n",
    "import osti"
   ]
  },
  {
   "cell_type": "code",
   "execution_count": 3,
   "metadata": {
    "ExecuteTime": {
     "end_time": "2019-03-01T14:08:33.397522Z",
     "start_time": "2019-03-01T14:08:31.952878Z"
    }
   },
   "outputs": [
    {
     "name": "stdout",
     "output_type": "stream",
     "text": [
      "Query was successful: True\n",
      "\n",
      "Query made on Fri, 01 Mar 2019 14:08:33 GMT returned 2408 hits\n",
      "\n",
      "URL used was https://www.osti.gov/api/v1/records?sort=publication_date+desc&sponsor_org=%22EE-4S%22&page=1&publication_date_start=01%2F01%2F1980&publication_date_end=03%2F01%2F2019\n"
     ]
    }
   ],
   "source": [
    "#First, need to run a single query to get the full results count\n",
    "params = {'sort': 'publication_date desc', 'sponsor_org': '\"EE-4S\"', 'page': 1}\n",
    "\n",
    "_, results_count = osti.query_API(params = params, print_status = True)"
   ]
  },
  {
   "cell_type": "markdown",
   "metadata": {},
   "source": [
    "## Make sure you change start and end dates here if you need to"
   ]
  },
  {
   "cell_type": "code",
   "execution_count": 4,
   "metadata": {
    "ExecuteTime": {
     "end_time": "2019-03-01T14:08:48.789438Z",
     "start_time": "2019-03-01T14:08:37.467777Z"
    }
   },
   "outputs": [],
   "source": [
    "# Pull the full results of your query into a DataFrame\n",
    "\n",
    "# format for dates = 'MM/DD/YYYY'\n",
    "query_start_date = '01/01/1980'\n",
    "query_end_date = dt.date.today().strftime('%m/%d/%Y')  # today's date\n",
    "\n",
    "params = {'sort': 'publication_date desc', 'sponsor_org': '\"EE-4S\"',\n",
    "          'rows': results_count}\n",
    "\n",
    "temp, _ = osti.query_API(params=params)\n",
    "df = pd.DataFrame.from_dict(temp)"
   ]
  },
  {
   "cell_type": "code",
   "execution_count": 5,
   "metadata": {
    "ExecuteTime": {
     "end_time": "2019-03-01T14:08:49.174587Z",
     "start_time": "2019-03-01T14:08:49.130094Z"
    },
    "scrolled": true
   },
   "outputs": [],
   "source": [
    "#Extract the link for the landing page of each record\n",
    "df['citation_link'] = df['links'].apply(osti.get_citation_URL)"
   ]
  },
  {
   "cell_type": "code",
   "execution_count": 6,
   "metadata": {
    "ExecuteTime": {
     "end_time": "2019-03-01T14:08:49.688839Z",
     "start_time": "2019-03-01T14:08:49.484837Z"
    }
   },
   "outputs": [],
   "source": [
    "#Export data to a CSV file, named using today's date\n",
    "today = dt.date.today().strftime('%m-%d-%Y')\n",
    "filename = today + '_OSTI_Data_Pull.csv'\n",
    "\n",
    "df.to_csv(os.path.join(r'output/',filename))"
   ]
  },
  {
   "cell_type": "markdown",
   "metadata": {},
   "source": [
    "# Cleaning and Exploring the Data\n",
    "\n",
    "## Checking Consistency of Office Specificity\n",
    "\n",
    "As multiple DOE program offices can be associated with a project output in the OSTI database, I want to check to make sure that the filter we're applying to get only solar-related projects is working as expected."
   ]
  },
  {
   "cell_type": "code",
   "execution_count": null,
   "metadata": {
    "ExecuteTime": {
     "end_time": "2019-02-28T18:04:24.342412Z",
     "start_time": "2019-02-28T18:04:24.332240Z"
    }
   },
   "outputs": [],
   "source": [
    "#Convert sponsoring_org field to be a str instead of list and split on the comma delimiter to make sure \n",
    "    #EE-4S is everywhere\n",
    "df['sponsor_orgs'].astype('str').str.split(\", \", expand = True)[1].value_counts()"
   ]
  },
  {
   "cell_type": "markdown",
   "metadata": {},
   "source": [
    "## Determining What Links We Get and Where They Go\n",
    "\n",
    "The `links` field seems to provide some URLs for us to use, let's do some spot checks and see if they go to project landing pages or straight to the full text itself (the former is preferred over the latter)."
   ]
  },
  {
   "cell_type": "markdown",
   "metadata": {},
   "source": [
    "**It looks like `'rel': 'citation'` is the link type we want to go straight to the landing page.** `'href'` key for dict gives us what we're looking for."
   ]
  },
  {
   "cell_type": "code",
   "execution_count": null,
   "metadata": {
    "ExecuteTime": {
     "end_time": "2019-02-28T18:04:24.364939Z",
     "start_time": "2019-02-28T18:04:24.353747Z"
    },
    "scrolled": true
   },
   "outputs": [],
   "source": [
    "df['citation_link'] = df['links'].apply(osti.get_citation_URL)"
   ]
  },
  {
   "cell_type": "markdown",
   "metadata": {
    "ExecuteTime": {
     "end_time": "2019-02-28T03:38:32.019797Z",
     "start_time": "2019-02-28T03:38:32.014483Z"
    }
   },
   "source": [
    "## What Does an Embargoed Document Look Like?\n",
    "\n",
    "We know that certain projects can embargo their publications for different periods of time (and some, such as the SBIR program, may even *require* embargoes). As such, we want to be able to flag a record when we think it's under embargo so we can check back regularly to see when the document may finally be available to the public. So, we need to figure out if there's a pattern that we can use to generate such a flag.\n",
    "\n",
    "**Let's first look for award EE0007326 and OSTI report ID 1490198, which I know to be currently under embargo.**"
   ]
  },
  {
   "cell_type": "code",
   "execution_count": null,
   "metadata": {
    "ExecuteTime": {
     "end_time": "2019-02-28T18:04:25.146686Z",
     "start_time": "2019-02-28T18:04:24.371769Z"
    }
   },
   "outputs": [],
   "source": [
    "params = {'sort': 'publication_date desc', 'sponsor_org': '\"EE-4S\"',\n",
    "         'identifier': 'EE0007326'}\n",
    "\n",
    "r = requests.get(URL, params=params)\n",
    "\n",
    "query_date = r.headers[\"Date\"]\n",
    "results_count = r.headers['X-Total-Count']\n",
    "\n",
    "print(f\"Query was successful: {r.status_code == requests.codes.ok}\")\n",
    "print(f\"Query made on {query_date} returned {results_count} hits\")\n",
    "print(f\"URL used was {r.url}\")\n"
   ]
  },
  {
   "cell_type": "code",
   "execution_count": null,
   "metadata": {
    "ExecuteTime": {
     "end_time": "2019-02-28T18:04:25.196916Z",
     "start_time": "2019-02-28T18:04:25.149395Z"
    }
   },
   "outputs": [],
   "source": [
    "df_test = pd.DataFrame.from_dict(r.json())\n",
    "df_test"
   ]
  },
  {
   "cell_type": "markdown",
   "metadata": {},
   "source": [
    "**Sadly, as of right now, it appears there's no good way to determine if a record is embargoed.** I thought the key may have been in the `links` column (those with only a citation-type link could be considered embargoed), but the ones lacking a full text may simply be behind a paywall of a journal, for example. So right now, I see no fool-proof way to flag these."
   ]
  }
 ],
 "metadata": {
  "kernelspec": {
   "display_name": "Python [conda env:OSTI-API-py36]",
   "language": "python",
   "name": "conda-env-OSTI-API-py36-py"
  },
  "language_info": {
   "codemirror_mode": {
    "name": "ipython",
    "version": 3
   },
   "file_extension": ".py",
   "mimetype": "text/x-python",
   "name": "python",
   "nbconvert_exporter": "python",
   "pygments_lexer": "ipython3",
   "version": "3.6.8"
  },
  "toc": {
   "base_numbering": 1,
   "nav_menu": {},
   "number_sections": true,
   "sideBar": true,
   "skip_h1_title": false,
   "title_cell": "Table of Contents",
   "title_sidebar": "Contents",
   "toc_cell": false,
   "toc_position": {},
   "toc_section_display": true,
   "toc_window_display": true
  },
  "varInspector": {
   "cols": {
    "lenName": 16,
    "lenType": 16,
    "lenVar": 40
   },
   "kernels_config": {
    "python": {
     "delete_cmd_postfix": "",
     "delete_cmd_prefix": "del ",
     "library": "var_list.py",
     "varRefreshCmd": "print(var_dic_list())"
    },
    "r": {
     "delete_cmd_postfix": ") ",
     "delete_cmd_prefix": "rm(",
     "library": "var_list.r",
     "varRefreshCmd": "cat(var_dic_list()) "
    }
   },
   "types_to_exclude": [
    "module",
    "function",
    "builtin_function_or_method",
    "instance",
    "_Feature"
   ],
   "window_display": false
  }
 },
 "nbformat": 4,
 "nbformat_minor": 2
}
